{
 "cells": [
  {
   "cell_type": "markdown",
   "metadata": {},
   "source": [
    "### Uvozimo potrebne biblioteke:\n",
    "\n",
    "- requests za slanje zahteva\n",
    "- bs4 za parsiranje\n",
    "- hashlib za hash sajta\n",
    "- time za sleep() funkciju\n",
    "- sys za argumente komandne linije\n",
    "- tqdm za progres bar\n",
    "- smtplib i MIMETetx za slanje mail-a"
   ]
  },
  {
   "cell_type": "code",
   "execution_count": null,
   "metadata": {},
   "outputs": [],
   "source": [
    "import requests, bs4, hashlib, time, sys, smtplib\n",
    "from email.mime.text import MIMEText\n",
    "from tqdm import trange"
   ]
  },
  {
   "cell_type": "code",
   "execution_count": null,
   "metadata": {},
   "outputs": [],
   "source": [
    "def pause():\n",
    "    step = time_to_sleep/100\n",
    "    pbar = tqdm(range(100))\n",
    "    for i in range(int(100)):                                              \n",
    "        time.sleep(step)"
   ]
  },
  {
   "cell_type": "code",
   "execution_count": null,
   "metadata": {},
   "outputs": [],
   "source": [
    "def send_email(to, text, url):\n",
    "    msg = MIMEText(text)\n",
    "    msg['subject'] = f'Promena na sajtu {url}'\n",
    "    msg['to'] = to\n",
    "    msg['from'] = 'mr15334'\n",
    "    \n",
    "    s = smtplib.SMTP('localhost')\n",
    "    s.send_message(msg)\n",
    "    s.quit()\n",
    "    "
   ]
  },
  {
   "cell_type": "markdown",
   "metadata": {},
   "source": [
    "### Unos podataka"
   ]
  },
  {
   "cell_type": "code",
   "execution_count": null,
   "metadata": {},
   "outputs": [],
   "source": [
    "url = input(\"Unesite url: \")\n",
    "mail = input(\"Unesite mail adresu: \")\n",
    "time_to_sleep = int(120) #vreme spavanja u sekundama"
   ]
  },
  {
   "cell_type": "markdown",
   "metadata": {},
   "source": [
    "### Počinjemo sa slanjem zahteva"
   ]
  },
  {
   "cell_type": "code",
   "execution_count": null,
   "metadata": {},
   "outputs": [],
   "source": [
    "def send_request(url):\n",
    "    req = requests.get(url)\n",
    "    hash_code = hashlib.md5()\n",
    "    hash_code.update(req.text.encode('utf-8'))\n",
    "    return(hash_code.hexdigest(), req)"
   ]
  },
  {
   "cell_type": "code",
   "execution_count": null,
   "metadata": {},
   "outputs": [],
   "source": [
    "old_hash = send_request(url)[0]\n",
    "new_hash = old_hash"
   ]
  },
  {
   "cell_type": "markdown",
   "metadata": {},
   "source": [
    "### Stavljamo beskonačnu petlju koja šalje zahteve"
   ]
  },
  {
   "cell_type": "code",
   "execution_count": null,
   "metadata": {},
   "outputs": [],
   "source": [
    "while old_hash == new_hash :\n",
    "\tpause()\n",
    "\t(new_hash, new_req) = send_request(url)\n",
    "new_req.encoding = \"utf-8\"\n",
    "html = new_req.text\n",
    "soup = bs4.BeautifulSoup(html, \"html.parser\")\n",
    "text = soup.find(id='text')\n",
    "send_email(to = mail, text = text, url = url)\n",
    "print(\"Poslata poruka\")"
   ]
  }
 ],
 "metadata": {
  "kernelspec": {
   "display_name": "Python 3",
   "language": "python",
   "name": "python3"
  },
  "language_info": {
   "codemirror_mode": {
    "name": "ipython",
    "version": 3
   },
   "file_extension": ".py",
   "mimetype": "text/x-python",
   "name": "python",
   "nbconvert_exporter": "python",
   "pygments_lexer": "ipython3",
   "version": "3.7.0"
  }
 },
 "nbformat": 4,
 "nbformat_minor": 2
}
